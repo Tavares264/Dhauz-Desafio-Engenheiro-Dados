{
 "cells": [
  {
   "cell_type": "code",
   "execution_count": null,
   "metadata": {},
   "outputs": [],
   "source": [
    "%pip install pymysql"
   ]
  },
  {
   "cell_type": "code",
   "execution_count": null,
   "metadata": {},
   "outputs": [],
   "source": [
    "import pymysql"
   ]
  },
  {
   "cell_type": "code",
   "execution_count": null,
   "metadata": {},
   "outputs": [],
   "source": [
    "conexao = pymysql.connect(\n",
    "host=\"dhauz-instance.cutloqirhpd7.us-east-1.rds.amazonaws.com\",\n",
    "port=3306,\n",
    "user=\"candidate_user\",\n",
    "password=\"D3@bGh664%$1VHv*\")"
   ]
  },
  {
   "cell_type": "code",
   "execution_count": null,
   "metadata": {},
   "outputs": [],
   "source": [
    "exec = conexao.cursor()\n",
    "query = \"\"\"\n",
    "describe db_hiring_test.raw_transactions_table;\n",
    "\"\"\"\n",
    "exec.execute(query)\n",
    "desc = exec.fetchall()\n",
    "print(desc)\n"
   ]
  },
  {
   "cell_type": "code",
   "execution_count": null,
   "metadata": {},
   "outputs": [],
   "source": [
    "# 1. Qual é o endereço (carteira) com maior volume de transações enviadas?\n",
    "exec = conexao.cursor()\n",
    "query = \"\"\"\n",
    "select AddressOrigin, \n",
    "count(AddressOrigin) qtd_transacoes \n",
    "from db_hiring_test.raw_transactions_table \n",
    "where Status = \"Confirmed\"\n",
    "group by AddressOrigin \n",
    "order by count(AddressOrigin) desc \n",
    "limit 1;\n",
    "\"\"\"\n",
    "exec.execute(query)\n",
    "desc = exec.fetchall()\n",
    "print(\"Maior numero de transções\")\n",
    "print(desc)\n",
    "\n",
    "exec = conexao.cursor()\n",
    "query = \"\"\"\n",
    "select AddressOrigin, \n",
    "sum(replace(TotalSent, ',', '')) total  \n",
    "from db_hiring_test.raw_transactions_table \n",
    "where Status = \"Confirmed\"\n",
    "group by AddressOrigin \n",
    "order by sum(replace(TotalSent, ',', '')) desc \n",
    "limit 1;\n",
    "\"\"\"\n",
    "exec.execute(query)\n",
    "desc = exec.fetchall()\n",
    "print(\"Maior valor total\")\n",
    "print(desc)"
   ]
  },
  {
   "cell_type": "code",
   "execution_count": null,
   "metadata": {},
   "outputs": [],
   "source": [
    "# 2. Qual é o dia do mês com maior volume de transações realizadas?\n",
    "exec = conexao.cursor()\n",
    "query = \"\"\"\n",
    "select month(SentDate), \n",
    "count(month(SentDate)) qtd_transacoes \n",
    "from db_hiring_test.raw_transactions_table \n",
    "group by month(SentDate) \n",
    "order by count(month(SentDate)) desc \n",
    "limit 1;\n",
    "\"\"\"\n",
    "exec.execute(query)\n",
    "desc = exec.fetchall()\n",
    "print(\"Maior numero de transções por mês\")\n",
    "print(desc)\n",
    "\n",
    "exec = conexao.cursor()\n",
    "query = \"\"\"\n",
    "select month(SentDate), \n",
    "sum(replace(TotalSent, ',', '')) total  \n",
    "from db_hiring_test.raw_transactions_table \n",
    "group by month(SentDate) \n",
    "order by sum(replace(TotalSent, ',', '')) desc \n",
    "limit 1;\n",
    "\"\"\"\n",
    "exec.execute(query)\n",
    "desc = exec.fetchall()\n",
    "print(\"Maior valor total por mês\")\n",
    "print(desc)"
   ]
  },
  {
   "cell_type": "code",
   "execution_count": null,
   "metadata": {},
   "outputs": [],
   "source": [
    "# 3. Em qual dia da semana geralmente mais transações são realizadas?\n",
    "exec = conexao.cursor()\n",
    "query = \"\"\"\n",
    "select \n",
    "case \n",
    "    when weekday(SentDate) = 0 then \"Segunda\"\n",
    "    when weekday(SentDate) = 1 then \"Terça\"\n",
    "    when weekday(SentDate) = 2 then \"Quarta\"\n",
    "    when weekday(SentDate) = 3 then \"Quinta\"\n",
    "    when weekday(SentDate) = 4 then \"Sexta\"\n",
    "    when weekday(SentDate) = 5 then \"Sabado\"\n",
    "    else \"Domingo\"\n",
    "END, \n",
    "count(weekday(SentDate)) \n",
    "from db_hiring_test.raw_transactions_table \n",
    "group by weekday(SentDate) \n",
    "order by count(weekday(SentDate)) desc \n",
    "limit 1;\n",
    "\"\"\"\n",
    "exec.execute(query)\n",
    "desc = exec.fetchall()\n",
    "print(\"Maior numero de transções por dia da semana\")\n",
    "print(desc)"
   ]
  },
  {
   "cell_type": "code",
   "execution_count": null,
   "metadata": {},
   "outputs": [],
   "source": [
    "# 4. Quais transações possuem condições atípicas e precisam ser validadas com o time \n",
    "# responsável pela disponibilização dos dados?\n",
    "exec = conexao.cursor()\n",
    "query = \"\"\"\n",
    "select *\n",
    "from db_hiring_test.raw_transactions_table \n",
    "where Status = 'Denied';\n",
    "\"\"\"\n",
    "exec.execute(query)\n",
    "desc = exec.fetchall()\n",
    "print(\"Não entendi muito bem o que seria condições atípicas, mas creio que seja isso:\")\n",
    "print(desc)"
   ]
  },
  {
   "cell_type": "code",
   "execution_count": null,
   "metadata": {},
   "outputs": [],
   "source": [
    "# 5. Qual a carteira com o maior saldo final? (considere que todas as carteiras estejam zeradas no \n",
    "# início das análises e que seja possível existir saldo negativo).\n",
    "\n",
    "exec = conexao.cursor()\n",
    "query = \"\"\"select orig.AddressOrigin, (dest.destino - orig.origen) total  from (\n",
    "select AddressOrigin, sum(TotalSent) origen \n",
    "from db_hiring_test.raw_transactions_table group by AddressOrigin\n",
    ") orig \n",
    "left join (\n",
    "select AddressDestination, sum(TotalSent) destino\n",
    "from db_hiring_test.raw_transactions_table group by AddressDestination\n",
    ") dest \n",
    "on AddressOrigin = AddressDestination\n",
    "order by (dest.destino - orig.origen) desc\n",
    "limit 1;\n",
    "\"\"\"\n",
    "exec.execute(query)\n",
    "desc = exec.fetchall()\n",
    "print(\"Carteira com maior saldo:\")\n",
    "print(desc)"
   ]
  }
 ],
 "metadata": {
  "kernelspec": {
   "display_name": "Python 3.9.0 64-bit",
   "language": "python",
   "name": "python3"
  },
  "language_info": {
   "codemirror_mode": {
    "name": "ipython",
    "version": 3
   },
   "file_extension": ".py",
   "mimetype": "text/x-python",
   "name": "python",
   "nbconvert_exporter": "python",
   "pygments_lexer": "ipython3",
   "version": "3.9.0"
  },
  "orig_nbformat": 4,
  "vscode": {
   "interpreter": {
    "hash": "ae80033059b555350836e491e799310d4179a067680f4bf14c4250c641b047b2"
   }
  }
 },
 "nbformat": 4,
 "nbformat_minor": 2
}
