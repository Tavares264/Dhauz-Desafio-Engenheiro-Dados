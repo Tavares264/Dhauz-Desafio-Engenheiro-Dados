{
 "cells": [
  {
   "cell_type": "code",
   "execution_count": 1,
   "metadata": {},
   "outputs": [
    {
     "name": "stdout",
     "output_type": "stream",
     "text": [
      "Requirement already satisfied: pymysql in d:\\ferramentas\\python39\\lib\\site-packages (1.0.2)\n",
      "Note: you may need to restart the kernel to use updated packages.\n"
     ]
    },
    {
     "name": "stderr",
     "output_type": "stream",
     "text": [
      "WARNING: Ignoring invalid distribution -ip (d:\\ferramentas\\python39\\lib\\site-packages)\n",
      "WARNING: Ignoring invalid distribution -ip (d:\\ferramentas\\python39\\lib\\site-packages)\n",
      "WARNING: Ignoring invalid distribution -ip (d:\\ferramentas\\python39\\lib\\site-packages)\n",
      "WARNING: Ignoring invalid distribution -ip (d:\\ferramentas\\python39\\lib\\site-packages)\n",
      "WARNING: Ignoring invalid distribution -ip (d:\\ferramentas\\python39\\lib\\site-packages)\n",
      "WARNING: Ignoring invalid distribution -ip (d:\\ferramentas\\python39\\lib\\site-packages)\n"
     ]
    }
   ],
   "source": [
    "%pip install pymysql"
   ]
  },
  {
   "cell_type": "code",
   "execution_count": 2,
   "metadata": {},
   "outputs": [],
   "source": [
    "import pymysql"
   ]
  },
  {
   "cell_type": "code",
   "execution_count": 3,
   "metadata": {},
   "outputs": [],
   "source": [
    "conexao = pymysql.connect(\n",
    "host=\"dhauz-instance.cutloqirhpd7.us-east-1.rds.amazonaws.com\",\n",
    "port=3306,\n",
    "user=\"candidate_user\",\n",
    "password=\"D3@bGh664%$1VHv*\")"
   ]
  },
  {
   "cell_type": "code",
   "execution_count": 4,
   "metadata": {},
   "outputs": [
    {
     "name": "stdout",
     "output_type": "stream",
     "text": [
      "(('IdTransaction', 'varchar(50)', 'YES', '', None, ''), ('AddressOrigin', 'varchar(50)', 'YES', '', None, ''), ('AddressDestination', 'varchar(50)', 'YES', '', None, ''), ('TotalSent', 'varchar(50)', 'YES', '', None, ''), ('Status', 'varchar(50)', 'YES', '', None, ''), ('SentDate', 'varchar(50)', 'YES', '', None, ''), ('ImportDate', 'varchar(50)', 'YES', '', None, ''))\n"
     ]
    }
   ],
   "source": [
    "exec = conexao.cursor()\n",
    "query = \"\"\"\n",
    "describe db_hiring_test.raw_transactions_table;\n",
    "\"\"\"\n",
    "exec.execute(query)\n",
    "desc = exec.fetchall()\n",
    "print(desc)\n"
   ]
  },
  {
   "cell_type": "code",
   "execution_count": 5,
   "metadata": {},
   "outputs": [
    {
     "name": "stdout",
     "output_type": "stream",
     "text": [
      "(('range-start', 'decimal(20,2)', 'YES', '', None, ''), ('range-end', 'decimal(20,2)', 'YES', '', None, ''), ('fee-percentage', 'decimal(20,2)', 'YES', '', None, ''))\n"
     ]
    }
   ],
   "source": [
    "exec = conexao.cursor()\n",
    "query = \"\"\"\n",
    "describe db_hiring_test.raw_transactions_fee;\n",
    "\"\"\"\n",
    "exec.execute(query)\n",
    "desc = exec.fetchall()\n",
    "print(desc)"
   ]
  },
  {
   "cell_type": "code",
   "execution_count": 6,
   "metadata": {},
   "outputs": [
    {
     "name": "stdout",
     "output_type": "stream",
     "text": [
      "Carteira com maior pagamento de taxas em janeiro de 2021\n",
      "(('A-62', Decimal('534.00'), '2021-01-01 06:14:33'),)\n"
     ]
    }
   ],
   "source": [
    "# 1. Considerando que a carteira origem é responsável por pagar as taxas de envio, qual carteira\n",
    "# seria responsável pelo maior pagamento de taxas em janeiro de 2021?\n",
    "exec = conexao.cursor()\n",
    "query = \"\"\" \n",
    "select AddressOrigin, sum(fx.taxa), fx.SentDate from (\n",
    "    select \n",
    "\t\tAddressOrigin,\n",
    "        (\n",
    "\t\t\tselect  B.`fee-percentage`\n",
    "            from  db_hiring_test.raw_transactions_fee as B\n",
    "            where cast(replace(A.TotalSent, ',', '') as decimal(20,2)) >= B.`range-start` \n",
    "            and cast(replace(A.TotalSent, ',', '') as decimal(20,2)) <= B.`range-end` \n",
    "\t\t) as taxa,\n",
    "        cast(replace(A.TotalSent, ',', '') as decimal(20,2)) TotalSent,\n",
    "        SentDate\n",
    "    from db_hiring_test.raw_transactions_table as A) fx \n",
    "where month(fx.SentDate) = 1 group by fx.AddressOrigin order by sum(fx.taxa) desc limit 1;\n",
    "\"\"\"\n",
    "\n",
    "exec.execute(query)\n",
    "desc = exec.fetchall()\n",
    "print(\"Carteira com maior pagamento de taxas em janeiro de 2021\")\n",
    "print(desc)"
   ]
  },
  {
   "cell_type": "code",
   "execution_count": 7,
   "metadata": {},
   "outputs": [
    {
     "name": "stdout",
     "output_type": "stream",
     "text": [
      "Carteira com maior pagamento de taxas em fevereiro de 2021\n",
      "(('A-91', Decimal('34.00'), '2021-02-02 05:41:31'),)\n"
     ]
    }
   ],
   "source": [
    "# 2. E em fevereiro de 2021?\n",
    "exec = conexao.cursor()\n",
    "query = \"\"\" \n",
    "select AddressOrigin, sum(fx.taxa), fx.SentDate from (\n",
    "    select \n",
    "\t\tAddressOrigin,\n",
    "        (\n",
    "\t\t\tselect  B.`fee-percentage`\n",
    "            from  db_hiring_test.raw_transactions_fee as B\n",
    "            where cast(replace(A.TotalSent, ',', '') as decimal(20,2)) >= B.`range-start` \n",
    "            and cast(replace(A.TotalSent, ',', '') as decimal(20,2)) <= B.`range-end` \n",
    "\t\t) as taxa,\n",
    "        cast(replace(A.TotalSent, ',', '') as decimal(20,2)) TotalSent,\n",
    "        SentDate\n",
    "    from db_hiring_test.raw_transactions_table as A) fx \n",
    "where month(fx.SentDate) = 2 group by fx.AddressOrigin order by sum(fx.taxa) desc limit 1;\n",
    "\"\"\"\n",
    "\n",
    "exec.execute(query)\n",
    "desc = exec.fetchall()\n",
    "print(\"Carteira com maior pagamento de taxas em fevereiro de 2021\")\n",
    "print(desc)"
   ]
  },
  {
   "cell_type": "code",
   "execution_count": 8,
   "metadata": {},
   "outputs": [
    {
     "name": "stdout",
     "output_type": "stream",
     "text": [
      "id da transação com a maior taxa paga\n",
      "(('ID1092', Decimal('20.00')),)\n"
     ]
    }
   ],
   "source": [
    "# 3. Qual é o id da transação com a maior taxa paga?\n",
    "exec = conexao.cursor()\n",
    "query = \"\"\" \n",
    "select IdTransaction, sum(fx.taxa) from (\n",
    "    select \n",
    "\t\tIdTransaction,\n",
    "        (\n",
    "\t\t\tselect  B.`fee-percentage`\n",
    "            from  db_hiring_test.raw_transactions_fee as B\n",
    "            where cast(replace(A.TotalSent, ',', '') as decimal(20,2)) >= B.`range-start` \n",
    "            and cast(replace(A.TotalSent, ',', '') as decimal(20,2)) <= B.`range-end` \n",
    "\t\t) as taxa,\n",
    "        cast(replace(A.TotalSent, ',', '') as decimal(20,2)) TotalSent\n",
    "    from db_hiring_test.raw_transactions_table as A) fx \n",
    "group by fx.IdTransaction order by sum(fx.taxa) desc limit 1;\n",
    "\"\"\"\n",
    "\n",
    "exec.execute(query)\n",
    "desc = exec.fetchall()\n",
    "print(\"id da transação com a maior taxa paga\")\n",
    "print(desc)"
   ]
  },
  {
   "cell_type": "code",
   "execution_count": 9,
   "metadata": {},
   "outputs": [
    {
     "name": "stdout",
     "output_type": "stream",
     "text": [
      "média de taxa paga\n",
      "((Decimal('5.878886'),),)\n"
     ]
    }
   ],
   "source": [
    "# 4. Qual é a média de taxa paga considerando todas as transações realizadas\n",
    "exec = conexao.cursor()\n",
    "query = \"\"\" \n",
    "select avg(fx.taxa) from (\n",
    "    select \n",
    "\t\tIdTransaction,\n",
    "        (\n",
    "\t\t\tselect  B.`fee-percentage`\n",
    "            from  db_hiring_test.raw_transactions_fee as B\n",
    "            where cast(replace(A.TotalSent, ',', '') as decimal(20,2)) >= B.`range-start` \n",
    "            and cast(replace(A.TotalSent, ',', '') as decimal(20,2)) <= B.`range-end` \n",
    "\t\t) as taxa,\n",
    "        cast(replace(A.TotalSent, ',', '') as decimal(20,2)) TotalSent\n",
    "    from db_hiring_test.raw_transactions_table as A) fx;\n",
    "\"\"\"\n",
    "\n",
    "exec.execute(query)\n",
    "desc = exec.fetchall()\n",
    "print(\"média de taxa paga\")\n",
    "print(desc)"
   ]
  }
 ],
 "metadata": {
  "kernelspec": {
   "display_name": "Python 3.9.0 64-bit",
   "language": "python",
   "name": "python3"
  },
  "language_info": {
   "codemirror_mode": {
    "name": "ipython",
    "version": 3
   },
   "file_extension": ".py",
   "mimetype": "text/x-python",
   "name": "python",
   "nbconvert_exporter": "python",
   "pygments_lexer": "ipython3",
   "version": "3.9.0"
  },
  "orig_nbformat": 4,
  "vscode": {
   "interpreter": {
    "hash": "ae80033059b555350836e491e799310d4179a067680f4bf14c4250c641b047b2"
   }
  }
 },
 "nbformat": 4,
 "nbformat_minor": 2
}
